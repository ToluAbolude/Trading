{
  "cells": [
    {
      "cell_type": "markdown",
      "metadata": {
        "id": "view-in-github",
        "colab_type": "text"
      },
      "source": [
        "<a href=\"https://colab.research.google.com/github/ToluAbolude/Trading/blob/main/Trading_Bot_Coinbase.ipynb\" target=\"_parent\"><img src=\"https://colab.research.google.com/assets/colab-badge.svg\" alt=\"Open In Colab\"/></a>"
      ]
    },
    {
      "cell_type": "markdown",
      "metadata": {
        "id": "R_1ZK0C0MPPw"
      },
      "source": [
        "## CoinBase Connection, buying and selling Template "
      ]
    },
    {
      "cell_type": "code",
      "execution_count": 1,
      "metadata": {
        "id": "F3aFNlyGMPPy"
      },
      "outputs": [],
      "source": [
        "# #python libaray install on cmd\n",
        "# pip install cbpro"
      ]
    },
    {
      "cell_type": "code",
      "execution_count": 2,
      "metadata": {
        "id": "xFhbTLnIMPP0"
      },
      "outputs": [],
      "source": [
        "# import cbpro"
      ]
    },
    {
      "cell_type": "code",
      "execution_count": 3,
      "metadata": {
        "id": "6OsqfDbiMPP0"
      },
      "outputs": [],
      "source": [
        "# data = open('passphrase','r').read().splitlines()\n",
        "# public = data[0]\n",
        "# passphrase = data[1]\n",
        "# secret = data[2]"
      ]
    },
    {
      "cell_type": "code",
      "execution_count": 4,
      "metadata": {
        "id": "eB0MCG1gMPP1"
      },
      "outputs": [],
      "source": [
        "# auth_client = cbpro.AuthenticatedClient(public,secret,passphrase)\n",
        "# print(auth_client)"
      ]
    },
    {
      "cell_type": "code",
      "execution_count": 5,
      "metadata": {
        "id": "bG9sWKnfMPP1"
      },
      "outputs": [],
      "source": [
        "# #Buy commands --\n",
        "# auth_client.buy(price = \"10.0\",size=\"0.1\",order_type=\"limit\",product_id=\"ETH-EUR\")\n",
        "# auth_client.buy(size = \"10\", order_type=\"market\",product_id= \"ETH-EUR\")\n",
        "# auth_client.place_limit_order(product_id= \"BTC-EUR\",side= \"buy\",price=\"10.00\", size=\"2\")\n",
        "                \n",
        "# #Sell command --\n",
        "# auth_client.sell(price = \"200000000.00\",size = \"10\", order_type = \"limit\",product_id=\"BTC-EUR\")\n",
        "# auth_client.sell(size = \"10\",order_type=\"market\",product_id= \"BTC-EUR\")\n",
        "# auth_client.place_limit_order(product_id= \"BTC-EUR\",side= \"sell\",price=\"100000000000000.00\", size=\"2\")\n",
        "\n",
        "\n",
        "# #Cancel order --\n",
        "# auth_client.cancel_all(product_id= \"BTC-EUR\")"
      ]
    },
    {
      "cell_type": "markdown",
      "metadata": {
        "id": "6tIAupUrMPP1"
      },
      "source": [
        "### Predicting Crypto Prices (BTCUSD)"
      ]
    },
    {
      "cell_type": "code",
      "execution_count": null,
      "metadata": {
        "id": "QoJqR-nXMPP2"
      },
      "outputs": [],
      "source": [
        "#python libaray install on cmd\n",
        "!pip install numpy\n",
        "!pip install panda\n",
        "!pip install matplotlib\n",
        "!pip install --upgrade pandas\n",
        "!pip install --upgrade pandas-datareader\n",
        "!pip install scikit-learn\n",
        "!pip install tensorflow"
      ]
    },
    {
      "cell_type": "code",
      "execution_count": 31,
      "metadata": {
        "id": "_F3wUe2mMPP2"
      },
      "outputs": [],
      "source": [
        "import numpy as np\n",
        "import matplotlib.pyplot as plt\n",
        "import pandas as pd\n",
        "import pandas_datareader as web\n",
        "import datetime as dt\n",
        "\n",
        "\n",
        "from sklearn.preprocessing import MinMaxScaler\n",
        "from tensorflow.keras.layers import Dense, Dropout, LSTM\n",
        "from tensorflow.keras.models import Sequential #from tensorflow.keras import Sequential\n",
        "\n"
      ]
    },
    {
      "cell_type": "code",
      "execution_count": 48,
      "metadata": {
        "id": "gGBZxHsnMPP4"
      },
      "outputs": [],
      "source": [
        "# Variables\n",
        "crypto_currency = 'BTC'\n",
        "against_currency = 'USD'\n",
        "\n",
        "start = dt.datetime(2020,1,1)\n",
        "end = dt.datetime.now()\n",
        "\n",
        "data = web.DataReader(f'{crypto_currency}-{against_currency}','yahoo',start,end)\n"
      ]
    },
    {
      "cell_type": "code",
      "execution_count": 67,
      "metadata": {
        "id": "HYrIa7tpMPP4"
      },
      "outputs": [],
      "source": [
        "# Prepare Data\n",
        "scaler = MinMaxScaler(feature_range=(0,1))\n",
        "scaled_data = scaler.fit_transform(data['Close'].values.reshape(-1,1))\n",
        "\n",
        "prediction_days = 60\n",
        "\n",
        "x_train, y_train = [],[]\n",
        "\n",
        "for x in range(prediction_days, len(scaled_data)):\n",
        "    x_train.append(scaled_data[x-prediction_days:x,0])\n",
        "    y_train.append(scaled_data[x,0])\n",
        "    \n",
        "x_train, y_train = np.array(x_train),np.array(y_train)\n",
        "x_train = np.reshape(x_train,(x_train.shape[0],x_train.shape[1],1))"
      ]
    },
    {
      "cell_type": "markdown",
      "metadata": {
        "id": "0s8uCyG8MPP8"
      },
      "source": [
        "#### Predict Next couple of Days"
      ]
    },
    {
      "cell_type": "code",
      "execution_count": 82,
      "metadata": {
        "id": "qN5UaX9ylfCf"
      },
      "outputs": [],
      "source": [
        "# Prepare Data for future Prediction (30 days i.e a month and so on)\n",
        "scaler = MinMaxScaler(feature_range=(0,1))\n",
        "scaled_data = scaler.fit_transform(data['Close'].values.reshape(-1,1))\n",
        "\n",
        "prediction_days = 60\n",
        "future_day = 30\n",
        "\n",
        "x_train, y_train = [],[]\n",
        "\n",
        "for x in range(prediction_days, len(scaled_data)-future_day):\n",
        "    x_train.append(scaled_data[x-prediction_days:x,0])\n",
        "    y_train.append(scaled_data[x+future_day,0])\n",
        "    \n",
        "x_train, y_train = np.array(x_train),np.array(y_train)\n",
        "x_train = np.reshape(x_train,(x_train.shape[0],x_train.shape[1],1))"
      ]
    },
    {
      "cell_type": "code",
      "execution_count": 83,
      "metadata": {
        "colab": {
          "base_uri": "https://localhost:8080/"
        },
        "id": "JeKsvI07MPP5",
        "outputId": "f383de8b-b6b1-46fa-f12c-1d1bc7b56b96"
      },
      "outputs": [
        {
          "output_type": "stream",
          "name": "stdout",
          "text": [
            "Epoch 1/25\n",
            "24/24 [==============================] - 10s 100ms/step - loss: 0.0684\n",
            "Epoch 2/25\n",
            "24/24 [==============================] - 2s 101ms/step - loss: 0.0231\n",
            "Epoch 3/25\n",
            "24/24 [==============================] - 2s 96ms/step - loss: 0.0197\n",
            "Epoch 4/25\n",
            "24/24 [==============================] - 2s 100ms/step - loss: 0.0186\n",
            "Epoch 5/25\n",
            "24/24 [==============================] - 2s 100ms/step - loss: 0.0160\n",
            "Epoch 6/25\n",
            "24/24 [==============================] - 2s 102ms/step - loss: 0.0156\n",
            "Epoch 7/25\n",
            "24/24 [==============================] - 2s 101ms/step - loss: 0.0143\n",
            "Epoch 8/25\n",
            "24/24 [==============================] - 2s 101ms/step - loss: 0.0125\n",
            "Epoch 9/25\n",
            "24/24 [==============================] - 2s 100ms/step - loss: 0.0130\n",
            "Epoch 10/25\n",
            "24/24 [==============================] - 2s 102ms/step - loss: 0.0108\n",
            "Epoch 11/25\n",
            "24/24 [==============================] - 2s 100ms/step - loss: 0.0116\n",
            "Epoch 12/25\n",
            "24/24 [==============================] - 2s 101ms/step - loss: 0.0110\n",
            "Epoch 13/25\n",
            "24/24 [==============================] - 2s 101ms/step - loss: 0.0107\n",
            "Epoch 14/25\n",
            "24/24 [==============================] - 2s 102ms/step - loss: 0.0099\n",
            "Epoch 15/25\n",
            "24/24 [==============================] - 2s 101ms/step - loss: 0.0112\n",
            "Epoch 16/25\n",
            "24/24 [==============================] - 2s 100ms/step - loss: 0.0097\n",
            "Epoch 17/25\n",
            "24/24 [==============================] - 2s 99ms/step - loss: 0.0099\n",
            "Epoch 18/25\n",
            "24/24 [==============================] - 2s 101ms/step - loss: 0.0116\n",
            "Epoch 19/25\n",
            "24/24 [==============================] - 2s 102ms/step - loss: 0.0098\n",
            "Epoch 20/25\n",
            "24/24 [==============================] - 2s 100ms/step - loss: 0.0109\n",
            "Epoch 21/25\n",
            "24/24 [==============================] - 2s 98ms/step - loss: 0.0113\n",
            "Epoch 22/25\n",
            "24/24 [==============================] - 2s 101ms/step - loss: 0.0095\n",
            "Epoch 23/25\n",
            "24/24 [==============================] - 2s 100ms/step - loss: 0.0094\n",
            "Epoch 24/25\n",
            "24/24 [==============================] - 2s 100ms/step - loss: 0.0094\n",
            "Epoch 25/25\n",
            "24/24 [==============================] - 2s 97ms/step - loss: 0.0096\n"
          ]
        },
        {
          "output_type": "execute_result",
          "data": {
            "text/plain": [
              "<keras.callbacks.History at 0x7f0c6e16ec90>"
            ]
          },
          "metadata": {},
          "execution_count": 83
        }
      ],
      "source": [
        "#Create Neural Network\n",
        "\n",
        "model = Sequential()\n",
        "\n",
        "model.add(LSTM(units=50, return_sequences=True,input_shape=(x_train.shape[1],1)))\n",
        "model.add(Dropout(0.2)) \n",
        "model.add(LSTM(units=50, return_sequences=True))\n",
        "model.add(Dropout(0.2))\n",
        "model.add(LSTM(units=50))\n",
        "model.add(Dropout(0.2))\n",
        "model.add(Dense(units=1))\n",
        "\n",
        "model.compile(optimizer='adam', loss='mean_squared_error')\n",
        "model.fit(x_train,y_train,epochs=25,batch_size=32)"
      ]
    },
    {
      "cell_type": "markdown",
      "metadata": {
        "id": "5tmC-unpMPP5"
      },
      "source": [
        "### Test Nueral Network Model"
      ]
    },
    {
      "cell_type": "code",
      "execution_count": 84,
      "metadata": {
        "colab": {
          "base_uri": "https://localhost:8080/",
          "height": 312
        },
        "id": "5lGnfn-iMPP5",
        "outputId": "e794f6d8-968f-4fda-afa4-1ab15e99bd5c"
      },
      "outputs": [
        {
          "output_type": "stream",
          "name": "stdout",
          "text": [
            "(897, 60, 1)\n"
          ]
        },
        {
          "output_type": "display_data",
          "data": {
            "text/plain": [
              "<Figure size 432x288 with 1 Axes>"
            ],
            "image/png": "[encoded data removed]"
          },
          "metadata": {
            "needs_background": "light"
          }
        }
      ],
      "source": [
        "# Testing the Model\n",
        "\n",
        "test_start = dt.datetime(2020,1,1) + dt.timedelta(days=-prediction_days)\n",
        "test_end = dt.datetime.now()\n",
        "\n",
        "test_data = web.DataReader(f'{crypto_currency}-{against_currency}','yahoo',\n",
        "test_start,test_end)\n",
        "\n",
        "actual_prices = test_data['Close'].values\n",
        "\n",
        "total_dataset = pd.concat((data['Close'],test_data['Close']), axis=0)\n",
        "\n",
        "model_input = total_dataset[len(total_dataset) - len(test_data) - prediction_days:].values\n",
        "model_input = model_input.reshape(-1,1)\n",
        "model_input = scaler.fit_transform(model_input)\n",
        "\n",
        "x_test = []\n",
        "\n",
        "for x in range(prediction_days,len(model_input)):\n",
        "    x_test.append(model_input[x-prediction_days:x,0])\n",
        "    \n",
        "x_test = np.array(x_test)\n",
        "x_test = np.reshape(x_test,(x_test.shape[0], x_test.shape[1],1))\n",
        "print(x_test.shape)\n",
        "prediction_prices = model.predict(x_test)\n",
        "prediction_prices = scaler.inverse_transform(prediction_prices)\n",
        "\n",
        "plt.plot(actual_prices, color = 'red', label = 'Actual Prices')\n",
        "plt.plot(prediction_prices, color = 'green', label = 'Prediction Prices')\n",
        "plt.title(f'{crypto_currency} price prediction')\n",
        "plt.xlabel('Time')\n",
        "plt.ylabel('Price')\n",
        "plt.legend(loc='upper left')\n",
        "plt.show()"
      ]
    },
    {
      "cell_type": "markdown",
      "metadata": {
        "id": "YdxGFVtXMPP6"
      },
      "source": [
        "### Next Day prediction "
      ]
    },
    {
      "cell_type": "code",
      "execution_count": 81,
      "metadata": {
        "colab": {
          "base_uri": "https://localhost:8080/",
          "height": 312
        },
        "id": "5JKciU68MPP6",
        "outputId": "efbfcf6d-614d-40fa-e527-969b1d932478"
      },
      "outputs": [
        {
          "output_type": "stream",
          "name": "stdout",
          "text": [
            "[[54007.94]]\n"
          ]
        },
        {
          "output_type": "display_data",
          "data": {
            "text/plain": [
              "<Figure size 432x288 with 1 Axes>"
            ],
            "image/png": "[encoded data removed]"
          },
          "metadata": {
            "needs_background": "light"
          }
        }
      ],
      "source": [
        "# Predict Next Day\n",
        "\n",
        "real_data = [model_input[len(model_input) - prediction_days:len(model_input) + 1, 0]]\n",
        "real_data = np.array(real_data)\n",
        "real_data = np.reshape(real_data,(real_data.shape[0],real_data.shape[1],1))\n",
        "\n",
        "prediction = model.predict(real_data)\n",
        "prediction = scaler.inverse_transform(prediction)\n",
        "print(prediction)\n",
        "\n",
        "plt.plot(actual_prices, color = 'blue', label = 'Actual Prices')\n",
        "plt.plot(prediction, color = 'black', label = 'Prediction Prices')\n",
        "plt.title(f'Next Day {crypto_currency} Price Prediction')\n",
        "plt.xlabel('Time')\n",
        "plt.ylabel('Price')\n",
        "plt.legend(loc='upper left')\n",
        "plt.show()\n"
      ]
    },
    {
      "cell_type": "markdown",
      "metadata": {
        "id": "faYlj_UIMPP7"
      },
      "source": [
        "### Prepare Data for future Prediction (30 days i.e a month and so on)"
      ]
    },
    {
      "cell_type": "code",
      "execution_count": 73,
      "metadata": {
        "id": "wXRvb_T5MPP7"
      },
      "outputs": [],
      "source": [
        "# Prepare Data for future Prediction (30 days i.e a month and so on)\n",
        "scaler = MinMaxScaler(feature_range=(0,1))\n",
        "scaled_data = scaler.fit_transform(data['Close'].values.reshape(-1,1))\n",
        "\n",
        "prediction_days = 60\n",
        "future_day = 30\n",
        "\n",
        "x_train, y_train = [],[]\n",
        "\n",
        "for x in range(prediction_days, len(scaled_data)-future_day):\n",
        "    x_train.append(scaled_data[x-prediction_days:x,0])\n",
        "    y_train.append(scaled_data[x+future_day,0])\n",
        "    \n",
        "x_train, y_train = np.array(x_train),np.array(y_train)\n",
        "x_train = np.reshape(x_train,(x_train.shape[0],x_train.shape[1],1))"
      ]
    },
    {
      "cell_type": "code",
      "execution_count": 74,
      "metadata": {
        "colab": {
          "base_uri": "https://localhost:8080/"
        },
        "id": "Vj7IaT7qMPP7",
        "outputId": "108d2126-00f4-4f81-b69f-4db38ba57296"
      },
      "outputs": [
        {
          "output_type": "stream",
          "name": "stdout",
          "text": [
            "Epoch 1/25\n",
            "24/24 [==============================] - 8s 89ms/step - loss: 0.0708\n",
            "Epoch 2/25\n",
            "24/24 [==============================] - 2s 88ms/step - loss: 0.0214\n",
            "Epoch 3/25\n",
            "24/24 [==============================] - 2s 91ms/step - loss: 0.0194\n",
            "Epoch 4/25\n",
            "24/24 [==============================] - 2s 91ms/step - loss: 0.0191\n",
            "Epoch 5/25\n",
            "24/24 [==============================] - 2s 88ms/step - loss: 0.0161\n",
            "Epoch 6/25\n",
            "24/24 [==============================] - 2s 90ms/step - loss: 0.0139\n",
            "Epoch 7/25\n",
            "24/24 [==============================] - 2s 89ms/step - loss: 0.0117\n",
            "Epoch 8/25\n",
            "24/24 [==============================] - 2s 88ms/step - loss: 0.0112\n",
            "Epoch 9/25\n",
            "24/24 [==============================] - 2s 89ms/step - loss: 0.0127\n",
            "Epoch 10/25\n",
            "24/24 [==============================] - 2s 90ms/step - loss: 0.0104\n",
            "Epoch 11/25\n",
            "24/24 [==============================] - 2s 88ms/step - loss: 0.0107\n",
            "Epoch 12/25\n",
            "24/24 [==============================] - 2s 90ms/step - loss: 0.0101\n",
            "Epoch 13/25\n",
            "24/24 [==============================] - 2s 89ms/step - loss: 0.0112\n",
            "Epoch 14/25\n",
            "24/24 [==============================] - 2s 90ms/step - loss: 0.0111\n",
            "Epoch 15/25\n",
            "24/24 [==============================] - 2s 89ms/step - loss: 0.0102\n",
            "Epoch 16/25\n",
            "24/24 [==============================] - 2s 88ms/step - loss: 0.0091\n",
            "Epoch 17/25\n",
            "24/24 [==============================] - 2s 91ms/step - loss: 0.0097\n",
            "Epoch 18/25\n",
            "24/24 [==============================] - 2s 87ms/step - loss: 0.0102\n",
            "Epoch 19/25\n",
            "24/24 [==============================] - 2s 88ms/step - loss: 0.0098\n",
            "Epoch 20/25\n",
            "24/24 [==============================] - 2s 88ms/step - loss: 0.0087\n",
            "Epoch 21/25\n",
            "24/24 [==============================] - 2s 88ms/step - loss: 0.0103\n",
            "Epoch 22/25\n",
            "24/24 [==============================] - 2s 89ms/step - loss: 0.0087\n",
            "Epoch 23/25\n",
            "24/24 [==============================] - 2s 89ms/step - loss: 0.0086\n",
            "Epoch 24/25\n",
            "24/24 [==============================] - 2s 88ms/step - loss: 0.0085\n",
            "Epoch 25/25\n",
            "24/24 [==============================] - 2s 89ms/step - loss: 0.0082\n"
          ]
        },
        {
          "output_type": "execute_result",
          "data": {
            "text/plain": [
              "<keras.callbacks.History at 0x7f0c6f108dd0>"
            ]
          },
          "metadata": {},
          "execution_count": 74
        }
      ],
      "source": [
        "#Create Neural Network\n",
        "\n",
        "model = Sequential()\n",
        "\n",
        "model.add(LSTM(units=50, return_sequences=True,input_shape=(x_train.shape[1],1)))\n",
        "model.add(Dropout(0.2))\n",
        "model.add(LSTM(units=50, return_sequences=True))\n",
        "model.add(Dropout(0.2))\n",
        "model.add(LSTM(units=50))\n",
        "model.add(Dropout(0.2))\n",
        "model.add(Dense(units=1))\n",
        "\n",
        "model.compile(optimizer='adam', loss='mean_squared_error')\n",
        "model.fit(x_train,y_train,epochs=25,batch_size=32)"
      ]
    },
    {
      "cell_type": "code",
      "execution_count": 75,
      "metadata": {
        "colab": {
          "base_uri": "https://localhost:8080/",
          "height": 295
        },
        "id": "z8iMW-lTMPP8",
        "outputId": "d4d69f5f-8319-49dc-b648-f064652b0c81"
      },
      "outputs": [
        {
          "output_type": "display_data",
          "data": {
            "text/plain": [
              "<Figure size 432x288 with 1 Axes>"
            ],
            "image/png": "[encoded data removed]"
          },
          "metadata": {
            "needs_background": "light"
          }
        }
      ],
      "source": [
        "# Predict Next couple of Days\n",
        "\n",
        "real_data = [model_input[len(model_input) - prediction_days:len(model_input) + 1, 0]]\n",
        "real_data = np.array(real_data)\n",
        "real_data = np.reshape(real_data,(real_data.shape[0],real_data.shape[1],1))\n",
        "\n",
        "prediction = model.predict(real_data)\n",
        "prediction = scaler.inverse_transform(prediction)\n",
        "\n",
        "plt.plot(actual_prices, color = 'green', label = 'Actual Prices')\n",
        "plt.plot(prediction, color = 'red', label = 'Prediction Prices')\n",
        "plt.title(f'Next Day {crypto_currency} Price Prediction')\n",
        "plt.xlabel('Time')\n",
        "plt.ylabel('Price')\n",
        "plt.legend(loc='upper left')\n",
        "plt.show()\n"
      ]
    }
  ],
  "metadata": {
    "kernelspec": {
      "display_name": "Python 3",
      "language": "python",
      "name": "python3"
    },
    "language_info": {
      "codemirror_mode": {
        "name": "ipython",
        "version": 3
      },
      "file_extension": ".py",
      "mimetype": "text/x-python",
      "name": "python",
      "nbconvert_exporter": "python",
      "pygments_lexer": "ipython3",
      "version": "3.8.5"
    },
    "colab": {
      "name": "Trading_Bot_Coinbase.ipynb",
      "provenance": [],
      "collapsed_sections": [],
      "include_colab_link": true
    }
  },
  "nbformat": 4,
  "nbformat_minor": 0
}