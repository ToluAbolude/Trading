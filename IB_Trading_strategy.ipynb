{
  "nbformat": 4,
  "nbformat_minor": 0,
  "metadata": {
    "colab": {
      "name": "IB Trading strategy",
      "provenance": [],
      "authorship_tag": "ABX9TyMI/HQU/9ScXtdBGeiDyw1I",
      "include_colab_link": true
    },
    "kernelspec": {
      "name": "python3",
      "display_name": "Python 3"
    },
    "language_info": {
      "name": "python"
    }
  },
  "cells": [
    {
      "cell_type": "markdown",
      "metadata": {
        "id": "view-in-github",
        "colab_type": "text"
      },
      "source": [
        "<a href=\"https://colab.research.google.com/github/ToluAbolude/Trading/blob/main/IB_Trading_strategy.ipynb\" target=\"_parent\"><img src=\"https://colab.research.google.com/assets/colab-badge.svg\" alt=\"Open In Colab\"/></a>"
      ]
    },
    {
      "cell_type": "code",
      "source": [
        "# !pip install yfinance\n",
        "# !pip install pandas\n",
        "# !pip install numpy"
      ],
      "metadata": {
        "id": "LJDEUdo0UROj"
      },
      "execution_count": 11,
      "outputs": []
    },
    {
      "cell_type": "code",
      "execution_count": 35,
      "metadata": {
        "id": "7YlCcyObqtqC"
      },
      "outputs": [],
      "source": [
        "import yfinance as yf\n",
        "import pandas as pd\n",
        "import numpy as np  \n",
        "\n",
        "from pandas.tseries.offsets import DateOffset"
      ]
    },
    {
      "cell_type": "code",
      "source": [
        "vix_df = yf.download('^VIX')\n",
        "print(vix_df)"
      ],
      "metadata": {
        "colab": {
          "base_uri": "https://localhost:8080/"
        },
        "id": "9FvSR9TdUFz8",
        "outputId": "1d299b84-65c4-47af-e67b-b6e10b55c14e"
      },
      "execution_count": 18,
      "outputs": [
        {
          "output_type": "stream",
          "name": "stdout",
          "text": [
            "\r[*********************100%***********************]  1 of 1 completed\n",
            "                 Open       High        Low      Close  Adj Close  Volume\n",
            "Date                                                                     \n",
            "1990-01-02  17.240000  17.240000  17.240000  17.240000  17.240000       0\n",
            "1990-01-03  18.190001  18.190001  18.190001  18.190001  18.190001       0\n",
            "1990-01-04  19.219999  19.219999  19.219999  19.219999  19.219999       0\n",
            "1990-01-05  20.110001  20.110001  20.110001  20.110001  20.110001       0\n",
            "1990-01-08  20.260000  20.260000  20.260000  20.260000  20.260000       0\n",
            "...               ...        ...        ...        ...        ...     ...\n",
            "2022-05-12  33.740002  34.759998  31.700001  31.770000  31.770000       0\n",
            "2022-05-13  31.090000  31.200001  28.780001  28.870001  28.870001       0\n",
            "2022-05-16  30.010000  30.230000  27.360001  27.469999  27.469999       0\n",
            "2022-05-17  27.070000  27.170000  25.510000  26.100000  26.100000       0\n",
            "2022-05-18  26.740000  27.540001  26.209999  27.540001  27.540001       0\n",
            "\n",
            "[8159 rows x 6 columns]\n"
          ]
        }
      ]
    },
    {
      "cell_type": "code",
      "source": [
        "vix_df['MA'] = vix_df.Close.rolling('30D').mean()"
      ],
      "metadata": {
        "id": "PoCcJJR6Um8C"
      },
      "execution_count": 19,
      "outputs": []
    },
    {
      "cell_type": "code",
      "source": [
        "print(vix_df)"
      ],
      "metadata": {
        "colab": {
          "base_uri": "https://localhost:8080/"
        },
        "id": "FvuRCUMSVTXR",
        "outputId": "1f312340-9ef4-4eae-8c5d-64a54acc92a0"
      },
      "execution_count": 20,
      "outputs": [
        {
          "output_type": "stream",
          "name": "stdout",
          "text": [
            "                 Open       High        Low      Close  Adj Close  Volume  \\\n",
            "Date                                                                        \n",
            "1990-01-02  17.240000  17.240000  17.240000  17.240000  17.240000       0   \n",
            "1990-01-03  18.190001  18.190001  18.190001  18.190001  18.190001       0   \n",
            "1990-01-04  19.219999  19.219999  19.219999  19.219999  19.219999       0   \n",
            "1990-01-05  20.110001  20.110001  20.110001  20.110001  20.110001       0   \n",
            "1990-01-08  20.260000  20.260000  20.260000  20.260000  20.260000       0   \n",
            "...               ...        ...        ...        ...        ...     ...   \n",
            "2022-05-12  33.740002  34.759998  31.700001  31.770000  31.770000       0   \n",
            "2022-05-13  31.090000  31.200001  28.780001  28.870001  28.870001       0   \n",
            "2022-05-16  30.010000  30.230000  27.360001  27.469999  27.469999       0   \n",
            "2022-05-17  27.070000  27.170000  25.510000  26.100000  26.100000       0   \n",
            "2022-05-18  26.740000  27.540001  26.209999  27.540001  27.540001       0   \n",
            "\n",
            "                   MA  \n",
            "Date                   \n",
            "1990-01-02  17.240000  \n",
            "1990-01-03  17.715000  \n",
            "1990-01-04  18.216667  \n",
            "1990-01-05  18.690000  \n",
            "1990-01-08  19.004000  \n",
            "...               ...  \n",
            "2022-05-12  28.346191  \n",
            "2022-05-13  28.681905  \n",
            "2022-05-16  28.909048  \n",
            "2022-05-17  28.781364  \n",
            "2022-05-18  29.025455  \n",
            "\n",
            "[8159 rows x 7 columns]\n"
          ]
        }
      ]
    },
    {
      "cell_type": "code",
      "source": [
        "vix_df_filt = vix_df[vix_df.Close > 1.5 * vix_df.MA]"
      ],
      "metadata": {
        "id": "iOreQbAOVWNI"
      },
      "execution_count": 21,
      "outputs": []
    },
    {
      "cell_type": "code",
      "source": [
        "print(vix_df_filt)"
      ],
      "metadata": {
        "colab": {
          "base_uri": "https://localhost:8080/"
        },
        "id": "70wQHuI_WXjv",
        "outputId": "bb65b6e1-5938-4d3b-c3a2-ed3c4efa0d2b"
      },
      "execution_count": 22,
      "outputs": [
        {
          "output_type": "stream",
          "name": "stdout",
          "text": [
            "                 Open       High        Low      Close  Adj Close  Volume  \\\n",
            "Date                                                                        \n",
            "1990-08-06  35.910000  35.910000  35.910000  35.910000  35.910000       0   \n",
            "1990-08-07  32.750000  32.750000  32.750000  32.750000  32.750000       0   \n",
            "1994-04-04  23.610001  28.299999  23.610001  23.870001  23.870001       0   \n",
            "1997-10-30  36.709999  38.560001  35.840000  38.200001  38.200001       0   \n",
            "2001-09-17  43.200001  44.330002  39.770000  41.759998  41.759998       0   \n",
            "...               ...        ...        ...        ...        ...     ...   \n",
            "2020-03-19  80.620003  84.260002  68.570000  72.000000  72.000000       0   \n",
            "2021-01-27  23.820000  37.209999  23.709999  37.209999  37.209999       0   \n",
            "2021-11-26  26.620001  28.990000  23.879999  28.620001  28.620001       0   \n",
            "2021-12-01  24.920000  32.610001  22.379999  31.120001  31.120001       0   \n",
            "2022-01-25  32.290001  35.849998  29.129999  31.160000  31.160000       0   \n",
            "\n",
            "                   MA  \n",
            "Date                   \n",
            "1990-08-06  20.330476  \n",
            "1990-08-07  20.895000  \n",
            "1994-04-04  15.487000  \n",
            "1997-10-30  23.360909  \n",
            "2001-09-17  25.810625  \n",
            "...               ...  \n",
            "2020-03-19  44.842273  \n",
            "2021-01-27  23.929500  \n",
            "2021-11-26  17.673810  \n",
            "2021-12-01  19.200952  \n",
            "2022-01-25  20.733333  \n",
            "\n",
            "[65 rows x 7 columns]\n"
          ]
        }
      ]
    },
    {
      "cell_type": "code",
      "source": [
        "series = pd.Series(vix_df_filt.index).diff()/np.timedelta64(1,'D') >= 30"
      ],
      "metadata": {
        "id": "UsO9poJIWZqJ"
      },
      "execution_count": 28,
      "outputs": []
    },
    {
      "cell_type": "code",
      "source": [
        "series[0] = True"
      ],
      "metadata": {
        "id": "G84qnOcTXHbS"
      },
      "execution_count": 29,
      "outputs": []
    },
    {
      "cell_type": "code",
      "source": [
        "signals = vix_df_filt[series.values]"
      ],
      "metadata": {
        "id": "rKbtUd1hXjGh"
      },
      "execution_count": 30,
      "outputs": []
    },
    {
      "cell_type": "code",
      "source": [
        "print(signals.shape)\n",
        "print(signals)"
      ],
      "metadata": {
        "colab": {
          "base_uri": "https://localhost:8080/"
        },
        "id": "d6uV_FcuXzR1",
        "outputId": "ddfc4f05-b1d5-4b07-a2ea-3ea1b27741bc"
      },
      "execution_count": 31,
      "outputs": [
        {
          "output_type": "stream",
          "name": "stdout",
          "text": [
            "(21, 7)\n",
            "                 Open       High        Low      Close  Adj Close  Volume  \\\n",
            "Date                                                                        \n",
            "1990-08-06  35.910000  35.910000  35.910000  35.910000  35.910000       0   \n",
            "1994-04-04  23.610001  28.299999  23.610001  23.870001  23.870001       0   \n",
            "1997-10-30  36.709999  38.560001  35.840000  38.200001  38.200001       0   \n",
            "2001-09-17  43.200001  44.330002  39.770000  41.759998  41.759998       0   \n",
            "2007-02-27  12.120000  19.010000  12.100000  18.309999  18.309999       0   \n",
            "2008-09-17  31.959999  36.400002  30.250000  36.220001  36.220001       0   \n",
            "2010-05-06  25.879999  40.709999  24.430000  32.799999  32.799999       0   \n",
            "2011-08-04  24.570000  32.070000  24.309999  31.660000  31.660000       0   \n",
            "2014-10-13  21.160000  24.639999  20.520000  24.639999  24.639999       0   \n",
            "2014-12-16  23.549999  25.200001  19.600000  23.570000  23.570000       0   \n",
            "2015-08-21  22.549999  28.379999  20.799999  28.030001  28.030001       0   \n",
            "2016-06-24  26.059999  26.240000  19.480000  25.760000  25.760000       0   \n",
            "2017-08-10  11.570000  16.170000  11.560000  16.040001  16.040001       0   \n",
            "2018-02-05  18.440001  38.799999  16.799999  37.320000  37.320000       0   \n",
            "2018-10-10  16.030001  22.959999  15.830000  22.959999  22.959999       0   \n",
            "2018-12-24  29.290001  36.099998  29.160000  36.070000  36.070000       0   \n",
            "2019-08-05  19.959999  24.809999  19.910000  24.590000  24.590000       0   \n",
            "2020-02-24  22.250000  26.350000  22.000000  25.030001  25.030001       0   \n",
            "2021-01-27  23.820000  37.209999  23.709999  37.209999  37.209999       0   \n",
            "2021-11-26  26.620001  28.990000  23.879999  28.620001  28.620001       0   \n",
            "2022-01-25  32.290001  35.849998  29.129999  31.160000  31.160000       0   \n",
            "\n",
            "                   MA  \n",
            "Date                   \n",
            "1990-08-06  20.330476  \n",
            "1994-04-04  15.487000  \n",
            "1997-10-30  23.360909  \n",
            "2001-09-17  25.810625  \n",
            "2007-02-27  10.921905  \n",
            "2008-09-17  23.478095  \n",
            "2010-05-06  18.951364  \n",
            "2011-08-04  20.732273  \n",
            "2014-10-13  15.625714  \n",
            "2014-12-16  15.027619  \n",
            "2015-08-21  14.204545  \n",
            "2016-06-24  16.995714  \n",
            "2017-08-10  10.279545  \n",
            "2018-02-05  13.152500  \n",
            "2018-10-10  13.356364  \n",
            "2018-12-24  22.662500  \n",
            "2019-08-05  14.283810  \n",
            "2020-02-24  16.175000  \n",
            "2021-01-27  23.929500  \n",
            "2021-11-26  17.673810  \n",
            "2022-01-25  20.733333  \n"
          ]
        }
      ]
    },
    {
      "cell_type": "code",
      "source": [
        "sp_df = yf.download('^GSPC', start = '1990-01-01')"
      ],
      "metadata": {
        "colab": {
          "base_uri": "https://localhost:8080/"
        },
        "id": "V8l8T2PSX7-Q",
        "outputId": "c3fb74de-c84c-40f8-a674-8a1aa56e2c2d"
      },
      "execution_count": 32,
      "outputs": [
        {
          "output_type": "stream",
          "name": "stdout",
          "text": [
            "\r[*********************100%***********************]  1 of 1 completed\n"
          ]
        }
      ]
    },
    {
      "cell_type": "code",
      "source": [
        "print(sp_df)"
      ],
      "metadata": {
        "colab": {
          "base_uri": "https://localhost:8080/"
        },
        "id": "rW1HWGgeYz24",
        "outputId": "2bf3867e-b66b-4075-8c44-13f79014f8da"
      },
      "execution_count": 33,
      "outputs": [
        {
          "output_type": "stream",
          "name": "stdout",
          "text": [
            "                   Open         High          Low        Close    Adj Close  \\\n",
            "Date                                                                          \n",
            "1990-01-02   353.399994   359.690002   351.980011   359.690002   359.690002   \n",
            "1990-01-03   359.690002   360.589996   357.890015   358.760010   358.760010   \n",
            "1990-01-04   358.760010   358.760010   352.890015   355.670013   355.670013   \n",
            "1990-01-05   355.670013   355.670013   351.350006   352.200012   352.200012   \n",
            "1990-01-08   352.200012   354.239990   350.540009   353.790009   353.790009   \n",
            "...                 ...          ...          ...          ...          ...   \n",
            "2022-05-12  3903.949951  3964.800049  3858.870117  3930.080078  3930.080078   \n",
            "2022-05-13  3963.899902  4038.879883  3963.899902  4023.889893  4023.889893   \n",
            "2022-05-16  4013.020020  4046.459961  3983.989990  4008.010010  4008.010010   \n",
            "2022-05-17  4052.000000  4090.719971  4033.929932  4088.850098  4088.850098   \n",
            "2022-05-18  4051.979980  4051.979980  4036.010010  4042.159912  4042.159912   \n",
            "\n",
            "                Volume  \n",
            "Date                    \n",
            "1990-01-02   162070000  \n",
            "1990-01-03   192330000  \n",
            "1990-01-04   177000000  \n",
            "1990-01-05   158530000  \n",
            "1990-01-08   140110000  \n",
            "...                ...  \n",
            "2022-05-12  4964130000  \n",
            "2022-05-13  4142950000  \n",
            "2022-05-16  3824320000  \n",
            "2022-05-17  3846580000  \n",
            "2022-05-18   128040293  \n",
            "\n",
            "[8159 rows x 6 columns]\n"
          ]
        }
      ]
    },
    {
      "cell_type": "code",
      "source": [
        "test_ = sp_df[(sp_df.index >= signals.index[0]) & (sp_df.index <= signals.index[0] + DateOffset(months=6))]"
      ],
      "metadata": {
        "id": "k36yszz8Y1sJ"
      },
      "execution_count": 38,
      "outputs": []
    },
    {
      "cell_type": "code",
      "source": [
        "print(test_)"
      ],
      "metadata": {
        "colab": {
          "base_uri": "https://localhost:8080/"
        },
        "id": "TjWaoNB9aFZX",
        "outputId": "14fc7760-55b9-4792-82ef-3ea271d49fb1"
      },
      "execution_count": 39,
      "outputs": [
        {
          "output_type": "stream",
          "name": "stdout",
          "text": [
            "                  Open        High         Low       Close   Adj Close  \\\n",
            "Date                                                                     \n",
            "1990-08-06  344.859985  344.859985  333.269989  334.429993  334.429993   \n",
            "1990-08-07  334.429993  338.630005  332.220001  334.829987  334.829987   \n",
            "1990-08-08  334.829987  339.209991  334.829987  338.350006  338.350006   \n",
            "1990-08-09  338.350006  340.559998  337.559998  339.940002  339.940002   \n",
            "1990-08-10  339.899994  339.899994  334.220001  335.519989  335.519989   \n",
            "...                ...         ...         ...         ...         ...   \n",
            "1991-01-31  340.920013  343.929993  340.470001  343.929993  343.929993   \n",
            "1991-02-01  343.910004  344.899994  340.369995  343.049988  343.049988   \n",
            "1991-02-04  343.049988  348.709991  342.959991  348.339996  348.339996   \n",
            "1991-02-05  348.339996  351.839996  347.209991  351.260010  351.260010   \n",
            "1991-02-06  351.260010  358.070007  349.579987  358.070007  358.070007   \n",
            "\n",
            "               Volume  \n",
            "Date                   \n",
            "1990-08-06  240400000  \n",
            "1990-08-07  231580000  \n",
            "1990-08-08  190400000  \n",
            "1990-08-09  155810000  \n",
            "1990-08-10  145340000  \n",
            "...               ...  \n",
            "1991-01-31  204520000  \n",
            "1991-02-01  246670000  \n",
            "1991-02-04  250750000  \n",
            "1991-02-05  290570000  \n",
            "1991-02-06  276940000  \n",
            "\n",
            "[129 rows x 6 columns]\n"
          ]
        }
      ]
    },
    {
      "cell_type": "code",
      "source": [
        "(test_.Close.pct_change() + 1).cumprod()"
      ],
      "metadata": {
        "colab": {
          "base_uri": "https://localhost:8080/"
        },
        "id": "jIATJYnmasCW",
        "outputId": "19e153d9-85c1-483f-a29a-115ddf438aaa"
      },
      "execution_count": 40,
      "outputs": [
        {
          "output_type": "execute_result",
          "data": {
            "text/plain": [
              "Date\n",
              "1990-08-06         NaN\n",
              "1990-08-07    1.001196\n",
              "1990-08-08    1.011721\n",
              "1990-08-09    1.016476\n",
              "1990-08-10    1.003259\n",
              "                ...   \n",
              "1991-01-31    1.028407\n",
              "1991-02-01    1.025775\n",
              "1991-02-04    1.041593\n",
              "1991-02-05    1.050324\n",
              "1991-02-06    1.070687\n",
              "Name: Close, Length: 129, dtype: float64"
            ]
          },
          "metadata": {},
          "execution_count": 40
        }
      ]
    },
    {
      "cell_type": "code",
      "source": [
        "returns = []\n",
        "for i in range(len(signals)):\n",
        "    subdf = sp_df[(sp_df.index >= signals.index[i]) & (sp_df.index <= signals.index[i] + DateOffset(months=6))]\n",
        "    returns.append((subdf.Close.pct_change() + 1).prod())"
      ],
      "metadata": {
        "id": "ikvI2sL8a6cm"
      },
      "execution_count": 43,
      "outputs": []
    },
    {
      "cell_type": "code",
      "source": [
        "print(returns)"
      ],
      "metadata": {
        "colab": {
          "base_uri": "https://localhost:8080/"
        },
        "id": "5PQs1iTsbj2s",
        "outputId": "8fa91ca4-13da-4afa-bfdd-d05debceacc1"
      },
      "execution_count": 44,
      "outputs": [
        {
          "output_type": "stream",
          "name": "stdout",
          "text": [
            "[1.0706874836772058, 1.0357012267173276, 1.2302474426905545, 1.122635436384584, 1.0484260622343589, 0.6728871619959027, 1.086601913803633, 1.1206846972319002, 1.1161174043015076, 1.0626286532638536, 0.9730527908930336, 1.1111116569983719, 1.0743742707953239, 1.0722591529003795, 1.0368061054438837, 1.2527540195300035, 1.172230134512753, 1.063669295468296, 1.1734816952300284, 0.8797593291746831, 0.9278563350635121]\n"
          ]
        }
      ]
    },
    {
      "cell_type": "code",
      "source": [
        "pd.Series(returns).mean()"
      ],
      "metadata": {
        "colab": {
          "base_uri": "https://localhost:8080/"
        },
        "id": "n_7k3U4pbskh",
        "outputId": "88d5b8d8-1386-47b5-ba09-9d3ae9c8f804"
      },
      "execution_count": 45,
      "outputs": [
        {
          "output_type": "execute_result",
          "data": {
            "text/plain": [
              "1.0620939175386235"
            ]
          },
          "metadata": {},
          "execution_count": 45
        }
      ]
    },
    {
      "cell_type": "code",
      "source": [
        "pd.Series(returns)-1"
      ],
      "metadata": {
        "colab": {
          "base_uri": "https://localhost:8080/"
        },
        "id": "BCJjVx0HcHTv",
        "outputId": "9f3fbc80-3b7c-49e7-c45a-dfb44d158bc3"
      },
      "execution_count": 47,
      "outputs": [
        {
          "output_type": "execute_result",
          "data": {
            "text/plain": [
              "0     0.070687\n",
              "1     0.035701\n",
              "2     0.230247\n",
              "3     0.122635\n",
              "4     0.048426\n",
              "5    -0.327113\n",
              "6     0.086602\n",
              "7     0.120685\n",
              "8     0.116117\n",
              "9     0.062629\n",
              "10   -0.026947\n",
              "11    0.111112\n",
              "12    0.074374\n",
              "13    0.072259\n",
              "14    0.036806\n",
              "15    0.252754\n",
              "16    0.172230\n",
              "17    0.063669\n",
              "18    0.173482\n",
              "19   -0.120241\n",
              "20   -0.072144\n",
              "dtype: float64"
            ]
          },
          "metadata": {},
          "execution_count": 47
        }
      ]
    },
    {
      "cell_type": "code",
      "source": [
        "(pd.Series(returns)-1).plot(kind = 'bar')"
      ],
      "metadata": {
        "colab": {
          "base_uri": "https://localhost:8080/",
          "height": 285
        },
        "id": "a32pzqHNcMGx",
        "outputId": "5022f4d1-b3d3-48c0-9951-25b2b12d6ea4"
      },
      "execution_count": 50,
      "outputs": [
        {
          "output_type": "execute_result",
          "data": {
            "text/plain": [
              "<matplotlib.axes._subplots.AxesSubplot at 0x7f1ab7df7cd0>"
            ]
          },
          "metadata": {},
          "execution_count": 50
        },
        {
          "output_type": "display_data",
          "data": {
            "text/plain": [
              "<Figure size 432x288 with 1 Axes>"
            ],
            "image/png": "[encoded data removed]"
          },
          "metadata": {
            "needs_background": "light"
          }
        }
      ]
    },
    {
      "cell_type": "code",
      "source": [
        ""
      ],
      "metadata": {
        "id": "33q04J7Ic7KN"
      },
      "execution_count": null,
      "outputs": []
    }
  ]
}